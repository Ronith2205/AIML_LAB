{
  "nbformat": 4,
  "nbformat_minor": 0,
  "metadata": {
    "colab": {
      "provenance": [],
      "authorship_tag": "ABX9TyMFg75UeSNvraDuJxJDwAVw",
      "include_colab_link": true
    },
    "kernelspec": {
      "name": "python3",
      "display_name": "Python 3"
    },
    "language_info": {
      "name": "python"
    }
  },
  "cells": [
    {
      "cell_type": "markdown",
      "metadata": {
        "id": "view-in-github",
        "colab_type": "text"
      },
      "source": [
        "<a href=\"https://colab.research.google.com/github/Ronith2205/AIML_LAB/blob/main/(2303A52280)(SetB_16)(Batch_37).ipynb\" target=\"_parent\"><img src=\"https://colab.research.google.com/assets/colab-badge.svg\" alt=\"Open In Colab\"/></a>"
      ]
    },
    {
      "cell_type": "code",
      "execution_count": null,
      "metadata": {
        "colab": {
          "base_uri": "https://localhost:8080/"
        },
        "id": "tnGcI9ZJ3Te3",
        "outputId": "cf8e391e-c5bc-4ac6-a679-1988831efe4f"
      },
      "outputs": [
        {
          "output_type": "stream",
          "name": "stdout",
          "text": [
            "Collecting ucimlrepo\n",
            "  Downloading ucimlrepo-0.0.7-py3-none-any.whl.metadata (5.5 kB)\n",
            "Requirement already satisfied: pandas>=1.0.0 in /usr/local/lib/python3.10/dist-packages (from ucimlrepo) (2.2.2)\n",
            "Requirement already satisfied: certifi>=2020.12.5 in /usr/local/lib/python3.10/dist-packages (from ucimlrepo) (2024.8.30)\n",
            "Requirement already satisfied: numpy>=1.22.4 in /usr/local/lib/python3.10/dist-packages (from pandas>=1.0.0->ucimlrepo) (1.26.4)\n",
            "Requirement already satisfied: python-dateutil>=2.8.2 in /usr/local/lib/python3.10/dist-packages (from pandas>=1.0.0->ucimlrepo) (2.8.2)\n",
            "Requirement already satisfied: pytz>=2020.1 in /usr/local/lib/python3.10/dist-packages (from pandas>=1.0.0->ucimlrepo) (2024.2)\n",
            "Requirement already satisfied: tzdata>=2022.7 in /usr/local/lib/python3.10/dist-packages (from pandas>=1.0.0->ucimlrepo) (2024.2)\n",
            "Requirement already satisfied: six>=1.5 in /usr/local/lib/python3.10/dist-packages (from python-dateutil>=2.8.2->pandas>=1.0.0->ucimlrepo) (1.16.0)\n",
            "Downloading ucimlrepo-0.0.7-py3-none-any.whl (8.0 kB)\n",
            "Installing collected packages: ucimlrepo\n",
            "Successfully installed ucimlrepo-0.0.7\n"
          ]
        }
      ],
      "source": [
        "pip install ucimlrepo"
      ]
    },
    {
      "cell_type": "code",
      "source": [
        "from ucimlrepo import fetch_ucirepo\n",
        "\n",
        "# fetch dataset\n",
        "travel_reviews = fetch_ucirepo(id=484)\n",
        "\n",
        "# data (as pandas dataframes)\n",
        "X = travel_reviews.data.features\n",
        "y = travel_reviews.data.targets\n",
        "\n",
        "# metadata\n",
        "print(travel_reviews.metadata)\n",
        "\n",
        "# variable information\n",
        "print(travel_reviews.variables)\n"
      ],
      "metadata": {
        "colab": {
          "base_uri": "https://localhost:8080/"
        },
        "id": "DAU-HczG3VP9",
        "outputId": "c0d75eef-1402-4b71-cee8-a9c473f9fe74"
      },
      "execution_count": null,
      "outputs": [
        {
          "output_type": "stream",
          "name": "stdout",
          "text": [
            "{'uci_id': 484, 'name': 'Travel Reviews', 'repository_url': 'https://archive.ics.uci.edu/dataset/484/travel+reviews', 'data_url': 'https://archive.ics.uci.edu/static/public/484/data.csv', 'abstract': 'Reviews on destinations in 10 categories mentioned across East Asia. Each traveler rating is mapped as Excellent(4), Very Good(3), Average(2), Poor(1), and Terrible(0) and average rating is used.', 'area': 'Other', 'tasks': ['Classification', 'Clustering'], 'characteristics': ['Multivariate', 'Text'], 'num_instances': 980, 'num_features': 10, 'feature_types': ['Real'], 'demographics': [], 'target_col': None, 'index_col': ['User ID'], 'has_missing_values': 'no', 'missing_values_symbol': None, 'year_of_dataset_creation': 2018, 'last_updated': 'Fri Mar 15 2024', 'dataset_doi': '10.24432/C56K6W', 'creators': ['Shini Renjith'], 'intro_paper': {'ID': 427, 'type': 'NATIVE', 'title': 'Evaluation of Partitioning Clustering Algorithms for Processing Social Media Data in Tourism Domain', 'authors': 'Dr. Shini Renjith, A. Sreekumar, M. Jathavedan', 'venue': 'IEEE Recent Advances in Intelligent Computational Systems', 'year': 2018, 'journal': None, 'DOI': None, 'URL': 'https://www.semanticscholar.org/paper/Evaluation-of-Partitioning-Clustering-Algorithms-in-Renjith-Sreekumar/0c667df7f0adb8b15ae1c39e4f5cc2ebad0ce33f', 'sha': None, 'corpus': None, 'arxiv': None, 'mag': None, 'acl': None, 'pmid': None, 'pmcid': None}, 'additional_info': {'summary': 'This data set is populated by crawling TripAdvisor.com. Reviews on destinations in 10 categories mentioned across East Asia are considered. Each traveler rating is mapped as Excellent (4), Very Good (3), Average (2), Poor (1), and Terrible (0) and average rating is used against each category per user.', 'purpose': None, 'funded_by': None, 'instances_represent': None, 'recommended_data_splits': None, 'sensitive_data': None, 'preprocessing_description': None, 'variable_info': 'Attribute 1 : Unique user id\\r\\nAttribute 2 : Average user feedback on art galleries\\r\\nAttribute 3 : Average user feedback on dance clubs\\r\\nAttribute 4 : Average user feedback on juice bars\\r\\nAttribute 5 : Average user feedback on restaurants\\r\\nAttribute 6 : Average user feedback on museums\\r\\nAttribute 7 : Average user feedback on resorts\\r\\nAttribute 8 : Average user feedback on parks/picnic spots\\r\\nAttribute 9 : Average user feedback on beaches\\r\\nAttribute 10 : Average user feedback on theaters\\r\\nAttribute 11 : Average user feedback on religious institutions', 'citation': None}}\n",
            "           name     role         type demographic  \\\n",
            "0       User ID       ID  Categorical        None   \n",
            "1    Category 1  Feature   Continuous        None   \n",
            "2    Category 2  Feature   Continuous        None   \n",
            "3    Category 3  Feature   Continuous        None   \n",
            "4    Category 4  Feature   Continuous        None   \n",
            "5    Category 5  Feature   Continuous        None   \n",
            "6    Category 6  Feature   Continuous        None   \n",
            "7    Category 7  Feature   Continuous        None   \n",
            "8    Category 8  Feature   Continuous        None   \n",
            "9    Category 9  Feature   Continuous        None   \n",
            "10  Category 10  Feature   Continuous        None   \n",
            "\n",
            "                                        description units missing_values  \n",
            "0                                              None  None             no  \n",
            "1            Average user feedback on art galleries  None             no  \n",
            "2              Average user feedback on dance clubs  None             no  \n",
            "3               Average user feedback on juice bars  None             no  \n",
            "4              Average user feedback on restaurants  None             no  \n",
            "5                  Average user feedback on museums  None             no  \n",
            "6                  Average user feedback on resorts  None             no  \n",
            "7       Average user feedback on parks/picnic spots  None             no  \n",
            "8                  Average user feedback on beaches  None             no  \n",
            "9                 Average user feedback on theaters  None             no  \n",
            "10  Average user feedback on religious institutions  None             no  \n"
          ]
        }
      ]
    },
    {
      "cell_type": "code",
      "source": [
        "import pandas as pd\n",
        "import numpy as np\n",
        "\n",
        "\n",
        "data = {\n",
        "    'Traveler_ID': [1, 2, 3, 4, 5, 6, 7, 8, 9, 10],\n",
        "    'Destination': ['Tokyo', 'Kyoto', 'Seoul', 'Bali', 'Beijing', 'Bangkok', 'Tokyo', 'Seoul', 'Phuket', 'Ko Samui'],\n",
        "    'Category': ['Cultural', 'Religious', 'Cultural', 'Beach', 'Cultural', 'Cultural', 'Beach', 'Religious', 'Beach', 'Picnic'],\n",
        "    'Rating': [5, 4, 5, 5, 3, 4, 5, 2, 5, 5],\n",
        "    'Region': ['East Asia', 'East Asia', 'East Asia', 'Southeast Asia', 'East Asia', 'Southeast Asia', 'East Asia', 'East Asia', 'Southeast Asia', 'Southeast Asia']\n",
        "}\n",
        "\n",
        "\n",
        "df = pd.DataFrame(data)\n",
        "\n",
        "# 1. Identify the top 5 travel destinations of travelers in East Asia\n",
        "east_asia_travelers = df[df['Region'] == 'East Asia']  # Filter for East Asia\n",
        "top_5_destinations = east_asia_travelers['Destination'].value_counts().head(5)\n",
        "\n",
        "print(\"Top 5 travel destinations in East Asia:\")\n",
        "print(top_5_destinations)\n",
        "\n",
        "# 2. Name the category most liked by travelers\n",
        "# Group by category and calculate the average rating, find the most liked category\n",
        "avg_rating_by_category = df.groupby('Category')['Rating'].mean()\n",
        "most_liked_category = avg_rating_by_category.idxmax()\n",
        "\n",
        "print(f\"\\nMost liked category: {most_liked_category}\")\n",
        "\n",
        "# 3. Identify the max and min counts of the most liked category of travelers\n",
        "most_liked_category_data = df[df['Category'] == most_liked_category]\n",
        "max_count = most_liked_category_data['Destination'].value_counts().max()\n",
        "min_count = most_liked_category_data['Destination'].value_counts().min()\n",
        "\n",
        "print(f\"\\nMax count of most liked category destinations: {max_count}\")\n",
        "print(f\"Min count of most liked category destinations: {min_count}\")\n",
        "\n",
        "# 4. Predict the count of travelers who liked religious institutions the most\n",
        "# Here we'll assume \"Religious\" is a specific category and calculate how many travelers liked it the most.\n",
        "religious_travelers = df[df['Category'] == 'Religious']\n",
        "religious_count = len(religious_travelers)\n",
        "\n",
        "print(f\"\\nCount of travelers who liked religious institutions the most: {religious_count}\")\n",
        "\n",
        "# 5. Identify the travelers who liked beaches and picnic the most\n",
        "beach_and_picnic_travelers = df[df['Category'].isin(['Beach', 'Picnic'])]  # Filter for Beach and Picnic\n",
        "travelers_liked_beach_picnic = beach_and_picnic_travelers['Traveler_ID'].unique()\n",
        "\n",
        "print(f\"\\nTravelers who liked beaches and picnic the most: {travelers_liked_beach_picnic}\")"
      ],
      "metadata": {
        "colab": {
          "base_uri": "https://localhost:8080/"
        },
        "id": "YjPUNy7x3Zln",
        "outputId": "1a6845ec-9f8e-4d31-b623-49de0f352458"
      },
      "execution_count": null,
      "outputs": [
        {
          "output_type": "stream",
          "name": "stdout",
          "text": [
            "Top 5 travel destinations in East Asia:\n",
            "Destination\n",
            "Tokyo      2\n",
            "Seoul      2\n",
            "Kyoto      1\n",
            "Beijing    1\n",
            "Name: count, dtype: int64\n",
            "\n",
            "Most liked category: Beach\n",
            "\n",
            "Max count of most liked category destinations: 1\n",
            "Min count of most liked category destinations: 1\n",
            "\n",
            "Count of travelers who liked religious institutions the most: 2\n",
            "\n",
            "Travelers who liked beaches and picnic the most: [ 4  7  9 10]\n"
          ]
        }
      ]
    }
  ]
}